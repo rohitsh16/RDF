{
 "cells": [
  {
   "cell_type": "markdown",
   "metadata": {
    "id": "UDeikpHwyZzP"
   },
   "source": [
    "## Creating RDF triples"
   ]
  },
  {
   "cell_type": "code",
   "execution_count": 1,
   "metadata": {
    "id": "4AMD49H9lYw2",
    "scrolled": true
   },
   "outputs": [
    {
     "name": "stdout",
     "output_type": "stream",
     "text": [
      "Requirement already satisfied: rdflib in /home/rohit/Desktop/ML/venv/lib/python3.8/site-packages (6.0.2)\n",
      "Requirement already satisfied: pyparsing in /home/rohit/Desktop/ML/venv/lib/python3.8/site-packages (from rdflib) (2.4.7)\n",
      "Requirement already satisfied: isodate in /home/rohit/Desktop/ML/venv/lib/python3.8/site-packages (from rdflib) (0.6.0)\n",
      "Requirement already satisfied: setuptools in /home/rohit/Desktop/ML/venv/lib/python3.8/site-packages (from rdflib) (58.1.0)\n",
      "Requirement already satisfied: six in /home/rohit/Desktop/ML/venv/lib/python3.8/site-packages (from isodate->rdflib) (1.16.0)\n",
      "Note: you may need to restart the kernel to use updated packages.\n"
     ]
    }
   ],
   "source": [
    "pip install rdflib"
   ]
  },
  {
   "cell_type": "markdown",
   "metadata": {
    "id": "403cvmM5AeaT"
   },
   "source": [
    "## Nodes\n",
    "The subjects and objects of the triples make up the nodes in the graph where the nodes are URI references, Blank Nodes or Literals. In RDFLib, these node types are represented by the classes **URIRef**, **BNode**, **Literal**. *URIRefs* and *Bnodes* can both be thought of as resources, such a person, a company, a website, etc.\n",
    "- A *BNode* is a node where the exact URI is not known.\n",
    "- A *URIRef* is a node where the exact URI is know. *URIRefs* are also used to represent the properties/predicates in the RDF graph.\n",
    "- *Literals* represent attribute values, such as a name, a date, a number, etc. The most common literal values are XML data types, e.g. string, int.."
   ]
  },
  {
   "cell_type": "code",
   "execution_count": 2,
   "metadata": {
    "id": "Y_qzkuxcAZRK"
   },
   "outputs": [],
   "source": [
    "from rdflib import URIRef, BNode, Literal, Namespace\n",
    "from rdflib.namespace import FOAF, DCTERMS, XSD, RDF, SDO\n",
    "\n",
    "# Creating Nodes : mona_lisa, davinci, lajoconde\n",
    "\n",
    "mona_lisa = URIRef('http://www.wikidata.org/entity/Q12418')\n",
    "# DBpedia Graph\n",
    "davinci = URIRef('http://dbpedia.org/resource/Leonardo_da_Vinci')\n",
    "lajoconde = URIRef('http://data.europeana.eu/item/04802/243FA8618938F4117025F17A8B813C5F9AA4D619')\n",
    "\n",
    "# Custom namespace\n",
    "EX = Namespace('http://example.org/')\n",
    "\n",
    "# Nodes with custom namespace as URI\n",
    "bob = EX['Bob']\n",
    "alice = EX['Alice']\n",
    "\n",
    "# Literal values\n",
    "birth_date = Literal(\"1990-07-04\", datatype=XSD['date'])\n",
    "title = Literal('Mona Lisa', lang='en')"
   ]
  },
  {
   "cell_type": "code",
   "execution_count": 3,
   "metadata": {
    "id": "tC1iLOCkHnyS"
   },
   "outputs": [
    {
     "data": {
      "text/plain": [
       "<Graph identifier=N66531fa6448440d3ad6e7864029f9531 (<class 'rdflib.graph.Graph'>)>"
      ]
     },
     "execution_count": 3,
     "metadata": {},
     "output_type": "execute_result"
    }
   ],
   "source": [
    "from rdflib import Graph\n",
    "\n",
    "# Graph initialisation from RDF library\n",
    "g = Graph()\n",
    "\n",
    "# Binding prefix to namespace\n",
    "g.bind('ex', EX)\n",
    "g.bind('foaf', FOAF)\n",
    "g.bind('schema', SDO)\n",
    "g.bind('dcterms', DCTERMS)\n",
    "\n",
    "# Format -> (Subject, Predicate, Object)\n",
    " \n",
    "g.add((bob, RDF.type, FOAF.Person))\n",
    "g.add((bob, FOAF.knows, alice))\n",
    "g.add((bob, FOAF['topic_interest'], mona_lisa))\n",
    "g.add((bob, SDO['birthDate'], birth_date))\n",
    "g.add((mona_lisa, DCTERMS['creator'], davinci))\n",
    "g.add((mona_lisa, DCTERMS['title'], title))\n",
    "g.add((lajoconde, DCTERMS['subject'], mona_lisa))"
   ]
  },
  {
   "cell_type": "code",
   "execution_count": 4,
   "metadata": {
    "colab": {
     "base_uri": "https://localhost:8080/",
     "height": 336
    },
    "id": "QT9iENftKa5v",
    "outputId": "eb756a97-a503-4272-adf3-dbc383df5cd8"
   },
   "outputs": [
    {
     "name": "stdout",
     "output_type": "stream",
     "text": [
      "@prefix dcterms: <http://purl.org/dc/terms/> .\n",
      "@prefix ex: <http://example.org/> .\n",
      "@prefix foaf: <http://xmlns.com/foaf/0.1/> .\n",
      "@prefix schema: <http://schema.org/> .\n",
      "@prefix xsd: <http://www.w3.org/2001/XMLSchema#> .\n",
      "\n",
      "<http://data.europeana.eu/item/04802/243FA8618938F4117025F17A8B813C5F9AA4D619> dcterms:subject <http://www.wikidata.org/entity/Q12418> .\n",
      "\n",
      "ex:Bob a foaf:Person ;\n",
      "    schema:birthDate \"1990-07-04\"^^xsd:date ;\n",
      "    foaf:knows ex:Alice ;\n",
      "    foaf:topic_interest <http://www.wikidata.org/entity/Q12418> .\n",
      "\n",
      "<http://www.wikidata.org/entity/Q12418> dcterms:creator <http://dbpedia.org/resource/Leonardo_da_Vinci> ;\n",
      "    dcterms:title \"Mona Lisa\"@en .\n",
      "\n",
      "\n"
     ]
    }
   ],
   "source": [
    "print(g.serialize(format='ttl'))"
   ]
  },
  {
   "cell_type": "code",
   "execution_count": 5,
   "metadata": {
    "id": "plbCFQQRVR2i"
   },
   "outputs": [],
   "source": [
    "# Bind prefix to namespace\n",
    "\n",
    "g.bind('ex', EX)\n",
    "g.bind('foaf', FOAF)\n",
    "g.bind('schema', SDO)\n",
    "g.bind('dcterms', DCTERMS)"
   ]
  },
  {
   "cell_type": "code",
   "execution_count": 6,
   "metadata": {
    "colab": {
     "base_uri": "https://localhost:8080/",
     "height": 158
    },
    "id": "93g6ggp7d-Ux",
    "outputId": "873d09ba-29d3-4b79-f8ca-a3ca86c4e21e"
   },
   "outputs": [
    {
     "name": "stdout",
     "output_type": "stream",
     "text": [
      "xml http://www.w3.org/XML/1998/namespace\n",
      "rdf http://www.w3.org/1999/02/22-rdf-syntax-ns#\n",
      "rdfs http://www.w3.org/2000/01/rdf-schema#\n",
      "xsd http://www.w3.org/2001/XMLSchema#\n",
      "ex http://example.org/\n",
      "foaf http://xmlns.com/foaf/0.1/\n",
      "schema http://schema.org/\n",
      "dcterms http://purl.org/dc/terms/\n"
     ]
    }
   ],
   "source": [
    "# Printing Prefixes and namespaces\n",
    "\n",
    "for prefix, ns in g.namespaces():\n",
    "    print(prefix, ns)"
   ]
  },
  {
   "cell_type": "code",
   "execution_count": 7,
   "metadata": {
    "id": "RPD0CbIrllVX"
   },
   "outputs": [
    {
     "data": {
      "text/plain": [
       "<Graph identifier=N66531fa6448440d3ad6e7864029f9531 (<class 'rdflib.graph.Graph'>)>"
      ]
     },
     "execution_count": 7,
     "metadata": {},
     "output_type": "execute_result"
    }
   ],
   "source": [
    "# Replace Literal value with set method\n",
    "\n",
    "g.set((bob, SDO['birthDate'], Literal('1990-01-01', datatype=XSD.date)))\n",
    "g.set((mona_lisa, DCTERMS['title'], Literal('La Joconde', lang='fr')))"
   ]
  },
  {
   "cell_type": "code",
   "execution_count": 8,
   "metadata": {
    "colab": {
     "base_uri": "https://localhost:8080/",
     "height": 336
    },
    "id": "tW8PWdoknUUW",
    "outputId": "52da0123-6faf-4d7e-97c2-517ffc4b6a19"
   },
   "outputs": [
    {
     "name": "stdout",
     "output_type": "stream",
     "text": [
      "@prefix dcterms: <http://purl.org/dc/terms/> .\n",
      "@prefix ex: <http://example.org/> .\n",
      "@prefix foaf: <http://xmlns.com/foaf/0.1/> .\n",
      "@prefix schema: <http://schema.org/> .\n",
      "@prefix xsd: <http://www.w3.org/2001/XMLSchema#> .\n",
      "\n",
      "<http://data.europeana.eu/item/04802/243FA8618938F4117025F17A8B813C5F9AA4D619> dcterms:subject <http://www.wikidata.org/entity/Q12418> .\n",
      "\n",
      "ex:Bob a foaf:Person ;\n",
      "    schema:birthDate \"1990-01-01\"^^xsd:date ;\n",
      "    foaf:knows ex:Alice ;\n",
      "    foaf:topic_interest <http://www.wikidata.org/entity/Q12418> .\n",
      "\n",
      "<http://www.wikidata.org/entity/Q12418> dcterms:creator <http://dbpedia.org/resource/Leonardo_da_Vinci> ;\n",
      "    dcterms:title \"La Joconde\"@fr .\n",
      "\n",
      "\n"
     ]
    }
   ],
   "source": [
    "print(g.serialize(format='ttl'))\n",
    "# print(g.serialize(format='xml'))"
   ]
  },
  {
   "cell_type": "code",
   "execution_count": 9,
   "metadata": {
    "id": "GKYY3rgJn46N"
   },
   "outputs": [
    {
     "data": {
      "text/plain": [
       "<Graph identifier=N66531fa6448440d3ad6e7864029f9531 (<class 'rdflib.graph.Graph'>)>"
      ]
     },
     "execution_count": 9,
     "metadata": {},
     "output_type": "execute_result"
    }
   ],
   "source": [
    "# Remove triples from graph (Subject, Predicate, object)\n",
    "\n",
    "g.remove((mona_lisa, None, None))"
   ]
  },
  {
   "cell_type": "code",
   "execution_count": 10,
   "metadata": {
    "colab": {
     "base_uri": "https://localhost:8080/",
     "height": 210
    },
    "id": "Pw1nwUjMoAid",
    "outputId": "bad62286-8246-4eed-9b67-7f93f7c2a890"
   },
   "outputs": [
    {
     "name": "stdout",
     "output_type": "stream",
     "text": [
      "@prefix dcterms: <http://purl.org/dc/terms/> .\n",
      "@prefix ex: <http://example.org/> .\n",
      "@prefix foaf: <http://xmlns.com/foaf/0.1/> .\n",
      "@prefix schema: <http://schema.org/> .\n",
      "@prefix xsd: <http://www.w3.org/2001/XMLSchema#> .\n",
      "\n",
      "<http://data.europeana.eu/item/04802/243FA8618938F4117025F17A8B813C5F9AA4D619> dcterms:subject <http://www.wikidata.org/entity/Q12418> .\n",
      "\n",
      "ex:Bob a foaf:Person ;\n",
      "    schema:birthDate \"1990-01-01\"^^xsd:date ;\n",
      "    foaf:knows ex:Alice ;\n",
      "    foaf:topic_interest <http://www.wikidata.org/entity/Q12418> .\n",
      "\n",
      "\n"
     ]
    }
   ],
   "source": [
    "print(g.serialize(format='ttl'))"
   ]
  }
 ],
 "metadata": {
  "colab": {
   "collapsed_sections": [],
   "name": "Creating RDF triples",
   "provenance": []
  },
  "kernelspec": {
   "display_name": "Python 3 (ipykernel)",
   "language": "python",
   "name": "python3"
  },
  "language_info": {
   "codemirror_mode": {
    "name": "ipython",
    "version": 3
   },
   "file_extension": ".py",
   "mimetype": "text/x-python",
   "name": "python",
   "nbconvert_exporter": "python",
   "pygments_lexer": "ipython3",
   "version": "3.8.10"
  }
 },
 "nbformat": 4,
 "nbformat_minor": 1
}
